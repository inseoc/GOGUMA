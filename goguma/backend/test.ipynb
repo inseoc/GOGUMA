{
 "cells": [
  {
   "cell_type": "code",
   "execution_count": 1,
   "metadata": {},
   "outputs": [],
   "source": [
    "import os\n",
    "from openai import OpenAI\n",
    "from load_dotenv import load_dotenv\n",
    "\n",
    "load_dotenv()\n",
    "\n",
    "api_key = os.getenv(\"OPENAI_API_KEY\", \"NONE\")\n",
    "model_name = os.getenv(\"OPENAI_MODEL_NAME\", \"NONE\")\n",
    "# proj_id = os.getenv(\"OPENAI_PROJECT_ID\", \"NONE\")\n",
    "\n",
    "# client = OpenAI(project=proj_id)\n",
    "client = OpenAI(api_key=api_key)"
   ]
  },
  {
   "cell_type": "code",
   "execution_count": 2,
   "metadata": {},
   "outputs": [],
   "source": [
    "response = client.chat.completions.create(\n",
    "  model=\"gpt-4o\",\n",
    "  messages=[\n",
    "    {\"role\": \"system\", \"content\": \"You are a helpful assistant.\"},\n",
    "    {\"role\": \"user\", \"content\": \"Who won the world series in 2020?\"},\n",
    "    {\"role\": \"assistant\", \"content\": \"The Los Angeles Dodgers won the World Series in 2020.\"},\n",
    "    {\"role\": \"user\", \"content\": \"Where was it played?\"}\n",
    "  ]\n",
    ")"
   ]
  },
  {
   "cell_type": "code",
   "execution_count": 3,
   "metadata": {},
   "outputs": [
    {
     "data": {
      "text/plain": [
       "ChatCompletion(id='chatcmpl-9YnCUzjKmBS9e790XndxV0fSPBXy0', choices=[Choice(finish_reason='stop', index=0, logprobs=None, message=ChatCompletionMessage(content='The 2020 World Series was played at Globe Life Field in Arlington, Texas. This was the first time in modern history that the World Series was held at a neutral site, due to the COVID-19 pandemic.', role='assistant', function_call=None, tool_calls=None))], created=1718079306, model='gpt-4o-2024-05-13', object='chat.completion', system_fingerprint='fp_319be4768e', usage=CompletionUsage(completion_tokens=44, prompt_tokens=53, total_tokens=97))"
      ]
     },
     "execution_count": 3,
     "metadata": {},
     "output_type": "execute_result"
    }
   ],
   "source": [
    "response"
   ]
  },
  {
   "cell_type": "code",
   "execution_count": 12,
   "metadata": {},
   "outputs": [
    {
     "name": "stdout",
     "output_type": "stream",
     "text": [
      "hello, inseo\n"
     ]
    }
   ],
   "source": [
    "a = \"\"\"hello, {}\"\"\"\n",
    "a = a.format(\"inseo\")\n",
    "print(a)"
   ]
  },
  {
   "cell_type": "code",
   "execution_count": 10,
   "metadata": {},
   "outputs": [
    {
     "name": "stdout",
     "output_type": "stream",
     "text": [
      "['__annotations__', '__class__', '__delattr__', '__dict__', '__dir__', '__doc__', '__eq__', '__format__', '__ge__', '__getattribute__', '__gt__', '__hash__', '__init__', '__init_subclass__', '__le__', '__lt__', '__module__', '__ne__', '__new__', '__reduce__', '__reduce_ex__', '__repr__', '__setattr__', '__sizeof__', '__str__', '__subclasshook__', '__weakref__', 'aclose', 'aiter_bytes', 'aiter_lines', 'aiter_raw', 'aiter_text', 'aread', 'astream_to_file', 'charset_encoding', 'close', 'content', 'encoding', 'iter_bytes', 'iter_lines', 'iter_raw', 'iter_text', 'json', 'read', 'response', 'stream_to_file', 'text', 'write_to_file']\n"
     ]
    }
   ],
   "source": [
    "completion = client.audio.speech.create(\n",
    "    model=\"tts-1\",\n",
    "    voice=\"alloy\",\n",
    "    input=\"hello\",\n",
    ")\n",
    "print(dir(completion))"
   ]
  },
  {
   "cell_type": "code",
   "execution_count": 13,
   "metadata": {},
   "outputs": [
    {
     "ename": "UnicodeDecodeError",
     "evalue": "'utf-8' codec can't decode byte 0xff in position 0: invalid start byte",
     "output_type": "error",
     "traceback": [
      "\u001b[1;31m---------------------------------------------------------------------------\u001b[0m",
      "\u001b[1;31mUnicodeDecodeError\u001b[0m                        Traceback (most recent call last)",
      "Cell \u001b[1;32mIn[13], line 1\u001b[0m\n\u001b[1;32m----> 1\u001b[0m \u001b[43mcompletion\u001b[49m\u001b[38;5;241;43m.\u001b[39;49m\u001b[43mjson\u001b[49m\u001b[43m(\u001b[49m\u001b[43m)\u001b[49m\n",
      "File \u001b[1;32mc:\\Users\\KB099\\anaconda3\\envs\\inseo_test\\lib\\site-packages\\openai\\_legacy_response.py:381\u001b[0m, in \u001b[0;36mHttpxBinaryResponseContent.json\u001b[1;34m(self, **kwargs)\u001b[0m\n\u001b[0;32m    380\u001b[0m \u001b[38;5;28;01mdef\u001b[39;00m \u001b[38;5;21mjson\u001b[39m(\u001b[38;5;28mself\u001b[39m, \u001b[38;5;241m*\u001b[39m\u001b[38;5;241m*\u001b[39mkwargs: Any) \u001b[38;5;241m-\u001b[39m\u001b[38;5;241m>\u001b[39m Any:\n\u001b[1;32m--> 381\u001b[0m     \u001b[38;5;28;01mreturn\u001b[39;00m \u001b[38;5;28mself\u001b[39m\u001b[38;5;241m.\u001b[39mresponse\u001b[38;5;241m.\u001b[39mjson(\u001b[38;5;241m*\u001b[39m\u001b[38;5;241m*\u001b[39mkwargs)\n",
      "File \u001b[1;32mc:\\Users\\KB099\\anaconda3\\envs\\inseo_test\\lib\\site-packages\\httpx\\_models.py:764\u001b[0m, in \u001b[0;36mResponse.json\u001b[1;34m(self, **kwargs)\u001b[0m\n\u001b[0;32m    763\u001b[0m \u001b[38;5;28;01mdef\u001b[39;00m \u001b[38;5;21mjson\u001b[39m(\u001b[38;5;28mself\u001b[39m, \u001b[38;5;241m*\u001b[39m\u001b[38;5;241m*\u001b[39mkwargs: typing\u001b[38;5;241m.\u001b[39mAny) \u001b[38;5;241m-\u001b[39m\u001b[38;5;241m>\u001b[39m typing\u001b[38;5;241m.\u001b[39mAny:\n\u001b[1;32m--> 764\u001b[0m     \u001b[38;5;28;01mreturn\u001b[39;00m jsonlib\u001b[38;5;241m.\u001b[39mloads(\u001b[38;5;28mself\u001b[39m\u001b[38;5;241m.\u001b[39mcontent, \u001b[38;5;241m*\u001b[39m\u001b[38;5;241m*\u001b[39mkwargs)\n",
      "File \u001b[1;32mc:\\Users\\KB099\\anaconda3\\envs\\inseo_test\\lib\\json\\__init__.py:341\u001b[0m, in \u001b[0;36mloads\u001b[1;34m(s, cls, object_hook, parse_float, parse_int, parse_constant, object_pairs_hook, **kw)\u001b[0m\n\u001b[0;32m    338\u001b[0m     \u001b[38;5;28;01mif\u001b[39;00m \u001b[38;5;129;01mnot\u001b[39;00m \u001b[38;5;28misinstance\u001b[39m(s, (\u001b[38;5;28mbytes\u001b[39m, \u001b[38;5;28mbytearray\u001b[39m)):\n\u001b[0;32m    339\u001b[0m         \u001b[38;5;28;01mraise\u001b[39;00m \u001b[38;5;167;01mTypeError\u001b[39;00m(\u001b[38;5;124mf\u001b[39m\u001b[38;5;124m'\u001b[39m\u001b[38;5;124mthe JSON object must be str, bytes or bytearray, \u001b[39m\u001b[38;5;124m'\u001b[39m\n\u001b[0;32m    340\u001b[0m                         \u001b[38;5;124mf\u001b[39m\u001b[38;5;124m'\u001b[39m\u001b[38;5;124mnot \u001b[39m\u001b[38;5;132;01m{\u001b[39;00ms\u001b[38;5;241m.\u001b[39m\u001b[38;5;18m__class__\u001b[39m\u001b[38;5;241m.\u001b[39m\u001b[38;5;18m__name__\u001b[39m\u001b[38;5;132;01m}\u001b[39;00m\u001b[38;5;124m'\u001b[39m)\n\u001b[1;32m--> 341\u001b[0m     s \u001b[38;5;241m=\u001b[39m \u001b[43ms\u001b[49m\u001b[38;5;241;43m.\u001b[39;49m\u001b[43mdecode\u001b[49m\u001b[43m(\u001b[49m\u001b[43mdetect_encoding\u001b[49m\u001b[43m(\u001b[49m\u001b[43ms\u001b[49m\u001b[43m)\u001b[49m\u001b[43m,\u001b[49m\u001b[43m \u001b[49m\u001b[38;5;124;43m'\u001b[39;49m\u001b[38;5;124;43msurrogatepass\u001b[39;49m\u001b[38;5;124;43m'\u001b[39;49m\u001b[43m)\u001b[49m\n\u001b[0;32m    343\u001b[0m \u001b[38;5;28;01mif\u001b[39;00m (\u001b[38;5;28mcls\u001b[39m \u001b[38;5;129;01mis\u001b[39;00m \u001b[38;5;28;01mNone\u001b[39;00m \u001b[38;5;129;01mand\u001b[39;00m object_hook \u001b[38;5;129;01mis\u001b[39;00m \u001b[38;5;28;01mNone\u001b[39;00m \u001b[38;5;129;01mand\u001b[39;00m\n\u001b[0;32m    344\u001b[0m         parse_int \u001b[38;5;129;01mis\u001b[39;00m \u001b[38;5;28;01mNone\u001b[39;00m \u001b[38;5;129;01mand\u001b[39;00m parse_float \u001b[38;5;129;01mis\u001b[39;00m \u001b[38;5;28;01mNone\u001b[39;00m \u001b[38;5;129;01mand\u001b[39;00m\n\u001b[0;32m    345\u001b[0m         parse_constant \u001b[38;5;129;01mis\u001b[39;00m \u001b[38;5;28;01mNone\u001b[39;00m \u001b[38;5;129;01mand\u001b[39;00m object_pairs_hook \u001b[38;5;129;01mis\u001b[39;00m \u001b[38;5;28;01mNone\u001b[39;00m \u001b[38;5;129;01mand\u001b[39;00m \u001b[38;5;129;01mnot\u001b[39;00m kw):\n\u001b[0;32m    346\u001b[0m     \u001b[38;5;28;01mreturn\u001b[39;00m _default_decoder\u001b[38;5;241m.\u001b[39mdecode(s)\n",
      "\u001b[1;31mUnicodeDecodeError\u001b[0m: 'utf-8' codec can't decode byte 0xff in position 0: invalid start byte"
     ]
    }
   ],
   "source": [
    "completion.json()"
   ]
  },
  {
   "cell_type": "code",
   "execution_count": 15,
   "metadata": {},
   "outputs": [
    {
     "data": {
      "text/html": [
       "\n",
       "                <audio  controls=\"controls\" >\n",
       "                    <source src=\"data:audio/wav;base64,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\" type=\"audio/wav\" />\n",
       "                    Your browser does not support the audio element.\n",
       "                </audio>\n",
       "              "
      ],
      "text/plain": [
       "<IPython.lib.display.Audio object>"
      ]
     },
     "execution_count": 15,
     "metadata": {},
     "output_type": "execute_result"
    }
   ],
   "source": [
    "from IPython.display import display, Audio\n",
    "audio = b\"\"\n",
    "for chunk in completion.iter_bytes(chunk_size=1024 * 1024):\n",
    "    audio += chunk\n",
    "Audio(audio)"
   ]
  },
  {
   "cell_type": "code",
   "execution_count": null,
   "metadata": {},
   "outputs": [],
   "source": []
  }
 ],
 "metadata": {
  "kernelspec": {
   "display_name": "inseo_test",
   "language": "python",
   "name": "python3"
  },
  "language_info": {
   "codemirror_mode": {
    "name": "ipython",
    "version": 3
   },
   "file_extension": ".py",
   "mimetype": "text/x-python",
   "name": "python",
   "nbconvert_exporter": "python",
   "pygments_lexer": "ipython3",
   "version": "3.9.19"
  }
 },
 "nbformat": 4,
 "nbformat_minor": 2
}
